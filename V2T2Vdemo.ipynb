{
 "cells": [
  {
   "attachments": {},
   "cell_type": "markdown",
   "metadata": {},
   "source": [
    "# Voice Desensitization Demo"
   ]
  },
  {
   "attachments": {},
   "cell_type": "markdown",
   "metadata": {},
   "source": [
    "voice data -> text file -> voice data"
   ]
  },
  {
   "cell_type": "code",
   "execution_count": 1,
   "metadata": {},
   "outputs": [
    {
     "data": {
      "text/plain": [
       "<_io.BufferedRandom name='/Users/xuhuan/Desktop/voicement desensitization/result4.wav'>"
      ]
     },
     "execution_count": 1,
     "metadata": {},
     "output_type": "execute_result"
    }
   ],
   "source": [
    "# import required modules\n",
    "from os import path\n",
    "from pydub import AudioSegment\n",
    "  \n",
    "# assign files\n",
    "input_file = \"/Users/xuhuan/Downloads/4.mp3\"\n",
    "output_file = \"/Users/xuhuan/Desktop/voicement desensitization/result4.wav\"\n",
    "  \n",
    "# convert mp3 file to wav file\n",
    "sound = AudioSegment.from_mp3(input_file)\n",
    "sound.export(output_file, format=\"wav\")"
   ]
  },
  {
   "cell_type": "code",
   "execution_count": 3,
   "metadata": {},
   "outputs": [
    {
     "name": "stdout",
     "output_type": "stream",
     "text": [
      "result2:\n",
      "{   'alternative': [   {   'confidence': 0.96208292,\n",
      "                           'transcript': 'a woman came aboard named Margaret '\n",
      "                                         'Brown but we all called her Molly '\n",
      "                                         'history would call her the '\n",
      "                                         'unseekable Molly Brown your husband '\n",
      "                                         'had struck gold someplace out west '\n",
      "                                         'and she was what mother called new '\n",
      "                                         'money by the next afternoon nothing '\n",
      "                                         'out ahead of us but ocean'},\n",
      "                       {   'transcript': 'a woman came aboard named Margaret '\n",
      "                                         'Brown but we all called her Molly '\n",
      "                                         'history would call her the '\n",
      "                                         'unseekable Molly Brown your husband '\n",
      "                                         'had struck gold some place out west '\n",
      "                                         'and she was what mother called new '\n",
      "                                         'money by the next afternoon nothing '\n",
      "                                         'out ahead of us but ocean'},\n",
      "                       {   'transcript': 'a woman came aboard named Margaret '\n",
      "                                         'Brown but we all called her Molly '\n",
      "                                         'history would call her the '\n",
      "                                         'unseekable Molly Brown you think you '\n",
      "                                         'can manage your husband had struck '\n",
      "                                         'gold someplace out west and she was '\n",
      "                                         'what mother called new money by the '\n",
      "                                         'next afternoon nothing out ahead of '\n",
      "                                         'us but ocean'},\n",
      "                       {   'transcript': 'a woman came aboard named Margaret '\n",
      "                                         'Brown but we all called her Molly '\n",
      "                                         'history would call her the '\n",
      "                                         'unseekable Molly Brown you think you '\n",
      "                                         'can manage your husband had struck '\n",
      "                                         'gold some place out west and she was '\n",
      "                                         'what mother called new money by the '\n",
      "                                         'next afternoon nothing out ahead of '\n",
      "                                         'us but ocean'},\n",
      "                       {   'transcript': 'a woman came aboard named Margaret '\n",
      "                                         'Brown but we all called her Molly '\n",
      "                                         'history would call her the '\n",
      "                                         'unseekable Molly Brown your husband '\n",
      "                                         'had struck someplace out west and '\n",
      "                                         'she was what mother called new money '\n",
      "                                         'by the next afternoon nothing out '\n",
      "                                         'ahead of us but ocean'}],\n",
      "    'final': True}\n",
      "Converting audio transcripts into text ...\n",
      "a woman came aboard named Margaret Brown but we all called her Molly history would call her the unseekable Molly Brown your husband had struck gold someplace out west and she was what mother called new money by the next afternoon nothing out ahead of us but ocean\n",
      "Sorry.. run again...\n"
     ]
    }
   ],
   "source": [
    "#import library\n",
    "import speech_recognition as sr\n",
    "\n",
    "# Initialize recognizer class (for recognizing the speech)\n",
    "r = sr.Recognizer()\n",
    "\n",
    "# Reading Audio file as source\n",
    "# listening the audio file and store in audio_text variable\n",
    "\n",
    "with sr.AudioFile('result4.wav') as source:\n",
    "    \n",
    "    audio_text = r.listen(source)\n",
    "    \n",
    "# recoginize_() method will throw a request error if the API is unreachable, hence using exception handling\n",
    "    try:\n",
    "        text = r.recognize_google(audio_text)\n",
    "        print('Converting audio transcripts into text ...')\n",
    "        print(text)\n",
    "     \n",
    "    except:\n",
    "         print('Sorry.. run again...')\n"
   ]
  },
  {
   "cell_type": "code",
   "execution_count": 5,
   "metadata": {},
   "outputs": [],
   "source": [
    "f = open(\"/Users/xuhuan/Desktop/voicement desensitization/result4.txt\", 'w')\n",
    "f.write(text)\n",
    "f.close()"
   ]
  },
  {
   "cell_type": "code",
   "execution_count": 8,
   "metadata": {},
   "outputs": [],
   "source": [
    "import pyttsx3\n",
    "import io\n",
    "import sys\n",
    "engine = pyttsx3.init() \n",
    "\n",
    "engine.setProperty('rate', 60)   \n",
    "engine.setProperty('volume', 1) \n",
    "engine.say(text)\n",
    "engine.runAndWait()\n",
    "engine.stop()"
   ]
  }
 ],
 "metadata": {
  "kernelspec": {
   "display_name": "python37",
   "language": "python",
   "name": "python3"
  },
  "language_info": {
   "codemirror_mode": {
    "name": "ipython",
    "version": 3
   },
   "file_extension": ".py",
   "mimetype": "text/x-python",
   "name": "python",
   "nbconvert_exporter": "python",
   "pygments_lexer": "ipython3",
   "version": "3.7.13"
  },
  "orig_nbformat": 4,
  "vscode": {
   "interpreter": {
    "hash": "487fe1314f648253f95909aaeae128998297eae1c58212375b475d4f48a5b7eb"
   }
  }
 },
 "nbformat": 4,
 "nbformat_minor": 2
}
